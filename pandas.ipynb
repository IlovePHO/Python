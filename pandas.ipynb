{
 "cells": [
  {
   "cell_type": "code",
   "execution_count": 2,
   "metadata": {},
   "outputs": [
    {
     "name": "stdout",
     "output_type": "stream",
     "text": [
      "2.2.3\n"
     ]
    }
   ],
   "source": [
    "import pandas as pd\n",
    "# Print the Pandas version\n",
    "print(pd.__version__)"
   ]
  },
  {
   "cell_type": "code",
   "execution_count": 3,
   "metadata": {},
   "outputs": [
    {
     "data": {
      "text/plain": [
       "A    Geeks\n",
       "B      for\n",
       "C    geeks\n",
       "dtype: object"
      ]
     },
     "execution_count": 3,
     "metadata": {},
     "output_type": "execute_result"
    }
   ],
   "source": [
    "# Create series with Pandas\n",
    "series = pd.Series(data = ['Geeks','for','geeks'],\n",
    "                   index = ['A','B','C'])\n",
    "series"
   ]
  },
  {
   "cell_type": "code",
   "execution_count": 10,
   "metadata": {},
   "outputs": [
    {
     "name": "stdout",
     "output_type": "stream",
     "text": [
      "   Fruits  Quantity  Price\n",
      "0   Mango        40     80\n",
      "1   Apple        20    100\n",
      "2  Banana        25     50\n",
      "3  Orange        10     70\n"
     ]
    }
   ],
   "source": [
    "data = {'Fruits': ['Mango', 'Apple', 'Banana', 'Orange'],\n",
    "        'Quantity': [40, 20, 25, 10],\n",
    "        'Price': [80, 100, 50, 70]\n",
    "        }\n",
    "\n",
    "# Create Pandas Dataframe with dictionary\n",
    "df = pd.DataFrame(data)\n",
    "print(df)"
   ]
  },
  {
   "cell_type": "code",
   "execution_count": 12,
   "metadata": {},
   "outputs": [
    {
     "data": {
      "text/plain": [
       "Fruits      object\n",
       "Quantity     int64\n",
       "Price        int64\n",
       "dtype: object"
      ]
     },
     "execution_count": 12,
     "metadata": {},
     "output_type": "execute_result"
    }
   ],
   "source": [
    "df.dtypes"
   ]
  },
  {
   "cell_type": "code",
   "execution_count": 15,
   "metadata": {},
   "outputs": [
    {
     "data": {
      "text/plain": [
       "(4, 3)"
      ]
     },
     "execution_count": 15,
     "metadata": {},
     "output_type": "execute_result"
    }
   ],
   "source": [
    "df.shape"
   ]
  },
  {
   "cell_type": "code",
   "execution_count": 21,
   "metadata": {},
   "outputs": [
    {
     "name": "stdout",
     "output_type": "stream",
     "text": [
      "<class 'pandas.core.frame.DataFrame'>\n",
      "RangeIndex: 4 entries, 0 to 3\n",
      "Data columns (total 3 columns):\n",
      " #   Column    Non-Null Count  Dtype  \n",
      "---  ------    --------------  -----  \n",
      " 0   Fruits    4 non-null      object \n",
      " 1   Quantity  4 non-null      int32  \n",
      " 2   Price     4 non-null      float64\n",
      "dtypes: float64(1), int32(1), object(1)\n",
      "memory usage: 212.0+ bytes\n"
     ]
    }
   ],
   "source": [
    "df.info()"
   ]
  },
  {
   "cell_type": "code",
   "execution_count": 19,
   "metadata": {},
   "outputs": [
    {
     "name": "stdout",
     "output_type": "stream",
     "text": [
      "<class 'pandas.core.frame.DataFrame'>\n",
      "RangeIndex: 4 entries, 0 to 3\n",
      "Data columns (total 3 columns):\n",
      " #   Column    Non-Null Count  Dtype  \n",
      "---  ------    --------------  -----  \n",
      " 0   Fruits    4 non-null      object \n",
      " 1   Quantity  4 non-null      int32  \n",
      " 2   Price     4 non-null      float64\n",
      "dtypes: float64(1), int32(1), object(1)\n",
      "memory usage: 212.0+ bytes\n"
     ]
    }
   ],
   "source": [
    "#Change the Data type\n",
    "df['Quantity'] = df['Quantity'].astype('int32')\n",
    "df['Fruits'] = df['Fruits'].astype('str')\n",
    "df['Price'] = df['Price'].astype('float')\n",
    "\n",
    "df.info()"
   ]
  },
  {
   "cell_type": "code",
   "execution_count": null,
   "metadata": {},
   "outputs": [],
   "source": [
    "df.values"
   ]
  },
  {
   "cell_type": "code",
   "execution_count": 23,
   "metadata": {},
   "outputs": [
    {
     "name": "stdout",
     "output_type": "stream",
     "text": [
      "   Fruits  Quantity  Price\n",
      "2  Banana        25   50.0\n",
      "3  Orange        10   70.0\n",
      "0   Mango        40   80.0\n",
      "1   Apple        20  100.0\n"
     ]
    }
   ],
   "source": [
    "# Sorting in Ascending order\n",
    "print(df.sort_values('Price', ascending=True))"
   ]
  },
  {
   "cell_type": "code",
   "execution_count": 24,
   "metadata": {},
   "outputs": [
    {
     "name": "stdout",
     "output_type": "stream",
     "text": [
      "   Fruits  Quantity  Price\n",
      "1   Apple        20  100.0\n",
      "0   Mango        40   80.0\n",
      "3  Orange        10   70.0\n",
      "2  Banana        25   50.0\n"
     ]
    }
   ],
   "source": [
    "# Sorting in Descending order\n",
    "print(df.sort_values('Price', ascending=False))"
   ]
  },
  {
   "cell_type": "code",
   "execution_count": 25,
   "metadata": {},
   "outputs": [
    {
     "name": "stdout",
     "output_type": "stream",
     "text": [
      "   Fruits  Quantity  Price\n",
      "3  Orange        10   70.0\n",
      "2  Banana        25   50.0\n",
      "1   Apple        20  100.0\n",
      "0   Mango        40   80.0\n"
     ]
    }
   ],
   "source": [
    "print(df.sort_index(ascending=False))"
   ]
  },
  {
   "cell_type": "code",
   "execution_count": 26,
   "metadata": {},
   "outputs": [
    {
     "name": "stdout",
     "output_type": "stream",
     "text": [
      "   Fruits  Quantity  Price\n",
      "0   Mango        40   80.0\n",
      "1   Apple        20  100.0\n",
      "2  Banana        25   50.0\n",
      "3  Orange        10   70.0\n"
     ]
    }
   ],
   "source": [
    "# Reset the indexes to default\n",
    "# inplace = True will make changes to the orginal dataframe\n",
    "# drop =True will drop the initial indexes\n",
    "df.reset_index(drop=True, inplace=True)\n",
    "print(df)"
   ]
  },
  {
   "cell_type": "code",
   "execution_count": 4,
   "metadata": {},
   "outputs": [
    {
     "name": "stdout",
     "output_type": "stream",
     "text": [
      "   FRUITS  QUANTITY  PRICE\n",
      "0   Mango        40     80\n",
      "1   Apple        20    100\n",
      "2  Banana        25     50\n",
      "3  Orange        10     70\n"
     ]
    }
   ],
   "source": [
    "df.rename(columns={'Fruits': 'FRUITS',\n",
    "                   'Quantity': 'QUANTITY',\n",
    "                   'Price': 'PRICE'},\n",
    "          inplace=True)\n",
    "print(df)"
   ]
  },
  {
   "cell_type": "code",
   "execution_count": 28,
   "metadata": {},
   "outputs": [
    {
     "name": "stdout",
     "output_type": "stream",
     "text": [
      "    variable   value\n",
      "0     FRUITS   Mango\n",
      "1     FRUITS   Apple\n",
      "2     FRUITS  Banana\n",
      "3     FRUITS  Orange\n",
      "4   QUANTITY      40\n",
      "5   QUANTITY      20\n",
      "6   QUANTITY      25\n",
      "7   QUANTITY      10\n",
      "8      PRICE    80.0\n",
      "9      PRICE   100.0\n",
      "10     PRICE    50.0\n",
      "11     PRICE    70.0\n"
     ]
    }
   ],
   "source": [
    "# Gather columns into rows.\n",
    "print(pd.melt(df))"
   ]
  },
  {
   "cell_type": "code",
   "execution_count": 29,
   "metadata": {},
   "outputs": [
    {
     "name": "stdout",
     "output_type": "stream",
     "text": [
      "        PRICE                     QUANTITY                    \n",
      "FRUITS  Apple Banana Mango Orange    Apple Banana Mango Orange\n",
      "0         NaN    NaN  80.0    NaN      NaN    NaN  40.0    NaN\n",
      "1       100.0    NaN   NaN    NaN     20.0    NaN   NaN    NaN\n",
      "2         NaN   50.0   NaN    NaN      NaN   25.0   NaN    NaN\n",
      "3         NaN    NaN   NaN   70.0      NaN    NaN   NaN   10.0\n"
     ]
    }
   ],
   "source": [
    "# Pivot table\n",
    "pivot = df.pivot(columns='FRUITS',\n",
    "                 values=['PRICE', 'QUANTITY'])\n",
    "print(pivot)"
   ]
  },
  {
   "cell_type": "code",
   "execution_count": 30,
   "metadata": {},
   "outputs": [
    {
     "name": "stdout",
     "output_type": "stream",
     "text": [
      "   FRUITS  PRICE\n",
      "0   Mango   80.0\n",
      "1   Apple  100.0\n",
      "2  Banana   50.0\n",
      "3  Orange   70.0\n"
     ]
    }
   ],
   "source": [
    "# Drop the DISCOUNT Columns\n",
    "df1 = df.drop(columns=['QUANTITY'], axis=1)\n",
    "print(df1)"
   ]
  },
  {
   "cell_type": "code",
   "execution_count": 31,
   "metadata": {},
   "outputs": [
    {
     "name": "stdout",
     "output_type": "stream",
     "text": [
      "   FRUITS  QUANTITY  PRICE\n",
      "0   Mango        40   80.0\n",
      "2  Banana        25   50.0\n"
     ]
    }
   ],
   "source": [
    "# Drop 2nd and 4th rows\n",
    "df2 = df.drop([1, 3], axis=0)\n",
    "print(df2)"
   ]
  },
  {
   "cell_type": "code",
   "execution_count": 32,
   "metadata": {},
   "outputs": [
    {
     "name": "stdout",
     "output_type": "stream",
     "text": [
      "   FRUITS  QUANTITY  PRICE\n",
      "0   Mango        40   80.0\n",
      "1   Apple        20  100.0\n",
      "2  Banana        25   50.0\n",
      "3  Orange        10   70.0\n"
     ]
    }
   ],
   "source": [
    "# Print first 5 rows\n",
    "print(df.head())"
   ]
  },
  {
   "cell_type": "code",
   "execution_count": 13,
   "metadata": {},
   "outputs": [
    {
     "name": "stdout",
     "output_type": "stream",
     "text": [
      "   Fruits  Quantity  Price\n",
      "0   Mango        40     80\n",
      "1   Apple        20    100\n",
      "2  Banana        25     50\n",
      "3  Orange        10     70\n"
     ]
    }
   ],
   "source": [
    "# Print Last 5 rows\n",
    "print(df.tail())"
   ]
  },
  {
   "cell_type": "code",
   "execution_count": 16,
   "metadata": {},
   "outputs": [
    {
     "name": "stdout",
     "output_type": "stream",
     "text": [
      "   Fruits  Quantity  Price\n",
      "3  Orange        10     70\n",
      "0   Mango        40     80\n",
      "1   Apple        20    100\n"
     ]
    }
   ],
   "source": [
    "# Randomly select n rows\n",
    "print(df.sample(3))"
   ]
  },
  {
   "cell_type": "code",
   "execution_count": 21,
   "metadata": {},
   "outputs": [
    {
     "name": "stdout",
     "output_type": "stream",
     "text": [
      "  Fruits  Quantity  Price\n",
      "1  Apple        20    100\n",
      "0  Mango        40     80\n"
     ]
    }
   ],
   "source": [
    "# Select top 2 Highest Price\n",
    "print(df.nlargest(2, 'Price'))"
   ]
  },
  {
   "cell_type": "code",
   "execution_count": 22,
   "metadata": {},
   "outputs": [
    {
     "name": "stdout",
     "output_type": "stream",
     "text": [
      "   Fruits  Quantity  Price\n",
      "2  Banana        25     50\n",
      "3  Orange        10     70\n"
     ]
    }
   ],
   "source": [
    "# Select 2 least Price\n",
    "print(df.nsmallest(2, 'Price'))"
   ]
  },
  {
   "cell_type": "code",
   "execution_count": 23,
   "metadata": {},
   "outputs": [
    {
     "name": "stdout",
     "output_type": "stream",
     "text": [
      "   Fruits  Quantity  Price\n",
      "0   Mango        40     80\n",
      "1   Apple        20    100\n",
      "3  Orange        10     70\n"
     ]
    }
   ],
   "source": [
    "# Select the price > 50\n",
    "print(df[df.Price > 50])"
   ]
  },
  {
   "cell_type": "code",
   "execution_count": 25,
   "metadata": {},
   "outputs": [
    {
     "name": "stdout",
     "output_type": "stream",
     "text": [
      "0     Mango\n",
      "1     Apple\n",
      "2    Banana\n",
      "3    Orange\n",
      "Name: Fruits, dtype: object\n"
     ]
    }
   ],
   "source": [
    "# Select the FRUITS name\n",
    "print(df['Fruits'])"
   ]
  },
  {
   "cell_type": "code",
   "execution_count": 27,
   "metadata": {},
   "outputs": [
    {
     "name": "stdout",
     "output_type": "stream",
     "text": [
      "   FRUITS  PRICE\n",
      "0   Mango     80\n",
      "1   Apple    100\n",
      "2  Banana     50\n",
      "3  Orange     70\n"
     ]
    }
   ],
   "source": [
    "# Select the FRUITS name and\n",
    "# their corresponding PRICE\n",
    "print(df[['FRUITS', 'PRICE']])"
   ]
  },
  {
   "cell_type": "code",
   "execution_count": 28,
   "metadata": {},
   "outputs": [
    {
     "name": "stdout",
     "output_type": "stream",
     "text": [
      "   FRUITS  QUANTITY\n",
      "0   Mango        40\n",
      "1   Apple        20\n",
      "2  Banana        25\n",
      "3  Orange        10\n"
     ]
    }
   ],
   "source": [
    "# Select the columns whose names match \n",
    "# the regular expression\n",
    "print(df.filter(regex='F|Q'))"
   ]
  },
  {
   "cell_type": "code",
   "execution_count": 29,
   "metadata": {},
   "outputs": [
    {
     "name": "stdout",
     "output_type": "stream",
     "text": [
      "   FRUITS  QUANTITY  PRICE\n",
      "0   Mango        40     80\n",
      "1   Apple        20    100\n",
      "2  Banana        25     50\n",
      "3  Orange        10     70\n"
     ]
    }
   ],
   "source": [
    "# Select all the columns between Fruits and Price\n",
    "print(df.loc[:, 'FRUITS':'PRICE'])"
   ]
  },
  {
   "cell_type": "code",
   "execution_count": 30,
   "metadata": {},
   "outputs": [
    {
     "name": "stdout",
     "output_type": "stream",
     "text": [
      "   FRUITS  PRICE\n",
      "2  Banana     50\n"
     ]
    }
   ],
   "source": [
    "# Select FRUITS name having PRICE <70\n",
    "print(df.loc[df['PRICE'] < 70,\n",
    "             ['FRUITS', 'PRICE']])"
   ]
  },
  {
   "cell_type": "code",
   "execution_count": 31,
   "metadata": {},
   "outputs": [
    {
     "name": "stdout",
     "output_type": "stream",
     "text": [
      "   FRUITS  QUANTITY  PRICE\n",
      "2  Banana        25     50\n",
      "3  Orange        10     70\n"
     ]
    }
   ],
   "source": [
    "# Select 2:5 rows\n",
    "print(df.iloc[2:5])"
   ]
  },
  {
   "cell_type": "code",
   "execution_count": 32,
   "metadata": {},
   "outputs": [
    {
     "data": {
      "text/plain": [
       "np.int64(100)"
      ]
     },
     "execution_count": 32,
     "metadata": {},
     "output_type": "execute_result"
    }
   ],
   "source": [
    "# Select Single PRICE value at 2nd Postion\n",
    "df.at[1, 'PRICE']"
   ]
  },
  {
   "cell_type": "code",
   "execution_count": 33,
   "metadata": {},
   "outputs": [
    {
     "data": {
      "text/plain": [
       "np.int64(100)"
      ]
     },
     "execution_count": 33,
     "metadata": {},
     "output_type": "execute_result"
    }
   ],
   "source": [
    "# Select the single values by their position\n",
    "df.iat[1, 2]"
   ]
  },
  {
   "cell_type": "code",
   "execution_count": 34,
   "metadata": {},
   "outputs": [
    {
     "name": "stdout",
     "output_type": "stream",
     "text": [
      "   FRUITS  PRICE\n",
      "0   Mango     80\n",
      "1   Apple    100\n",
      "2  Banana     50\n",
      "3  Orange     70\n"
     ]
    }
   ],
   "source": [
    "#Filter by column name\n",
    "print(df.filter(items=['FRUITS', 'PRICE']))"
   ]
  },
  {
   "cell_type": "code",
   "execution_count": 35,
   "metadata": {},
   "outputs": [
    {
     "name": "stdout",
     "output_type": "stream",
     "text": [
      "   FRUITS  QUANTITY  PRICE\n",
      "3  Orange        10     70\n"
     ]
    }
   ],
   "source": [
    "# Filter by row index\n",
    "print(df.filter(items=[3], axis=0))"
   ]
  },
  {
   "cell_type": "code",
   "execution_count": 37,
   "metadata": {},
   "outputs": [
    {
     "data": {
      "text/plain": [
       "0     80.0\n",
       "1    100.0\n",
       "2      NaN\n",
       "3     70.0\n",
       "Name: PRICE, dtype: float64"
      ]
     },
     "execution_count": 37,
     "metadata": {},
     "output_type": "execute_result"
    }
   ],
   "source": [
    "# Where\n",
    "df['PRICE'].where(df['PRICE'] > 50)"
   ]
  },
  {
   "cell_type": "code",
   "execution_count": 38,
   "metadata": {},
   "outputs": [
    {
     "name": "stdout",
     "output_type": "stream",
     "text": [
      "  FRUITS  QUANTITY  PRICE\n",
      "0  Mango        40     80\n",
      "1  Apple        20    100\n"
     ]
    }
   ],
   "source": [
    "# QUERY\n",
    "print(df.query('PRICE>70'))"
   ]
  },
  {
   "cell_type": "code",
   "execution_count": 39,
   "metadata": {},
   "outputs": [
    {
     "name": "stdout",
     "output_type": "stream",
     "text": [
      "   FRUITS  QUANTITY  PRICE\n",
      "1   Apple        20    100\n",
      "3  Orange        10     70\n"
     ]
    }
   ],
   "source": [
    "# Price >50 & QUANTITY <30\n",
    "print(df.query('PRICE>50 and QUANTITY<30'))"
   ]
  },
  {
   "cell_type": "code",
   "execution_count": 40,
   "metadata": {},
   "outputs": [
    {
     "name": "stdout",
     "output_type": "stream",
     "text": [
      "  FRUITS  QUANTITY  PRICE\n",
      "0  Mango        40     80\n"
     ]
    }
   ],
   "source": [
    "# FRUITS name start with 'M'\n",
    "print(df.query(\"FRUITS.str.startswith('M')\", ))"
   ]
  },
  {
   "cell_type": "code",
   "execution_count": 3,
   "metadata": {},
   "outputs": [
    {
     "name": "stdout",
     "output_type": "stream",
     "text": [
      "   Fruits  Price\n",
      "0   Mango     60\n",
      "1  Banana     40\n",
      "2  Grapes     75\n",
      "3   Apple    100\n",
      "4  Orange     65\n"
     ]
    }
   ],
   "source": [
    "#Combine Two data sets\n",
    "#Create 1st dataframe\n",
    "df1 = pd.DataFrame({'Fruits': ['Mango', 'Banana',\n",
    "                               'Grapes', 'Apple',\n",
    "                               'Orange'],\n",
    "                    'Price':  [60, 40, 75, 100, 65]})\n",
    "print(df1)"
   ]
  },
  {
   "cell_type": "code",
   "execution_count": 4,
   "metadata": {},
   "outputs": [
    {
     "name": "stdout",
     "output_type": "stream",
     "text": [
      "    Fruits  Price\n",
      "0    Apple     80\n",
      "1     Kiwi     90\n",
      "2    Melon    100\n",
      "3     Lime    110\n",
      "4  Coconut    120\n"
     ]
    }
   ],
   "source": [
    "# Create 2st dataframe\n",
    "df2 = pd.DataFrame({'Fruits': ['Apple', 'Kiwi', 'Melon', 'Lime', 'Coconut'],\n",
    "                               'Price': [80, 90, 100, 110, 120]})\n",
    "print(df2)"
   ]
  },
  {
   "cell_type": "code",
   "execution_count": 5,
   "metadata": {},
   "outputs": [
    {
     "name": "stdout",
     "output_type": "stream",
     "text": [
      "   Fruits  Price_x  Price_y\n",
      "0   Mango       60      NaN\n",
      "1  Banana       40      NaN\n",
      "2  Grapes       75      NaN\n",
      "3   Apple      100     80.0\n",
      "4  Orange       65      NaN\n"
     ]
    }
   ],
   "source": [
    "# Merge two dataframe\n",
    "# A. Left Join\n",
    "print(pd.merge(df1, df2,\n",
    "               how='left', on='Fruits'))"
   ]
  },
  {
   "cell_type": "code",
   "execution_count": 6,
   "metadata": {},
   "outputs": [
    {
     "name": "stdout",
     "output_type": "stream",
     "text": [
      "    Fruits  Price_x  Price_y\n",
      "0    Apple    100.0       80\n",
      "1     Kiwi      NaN       90\n",
      "2    Melon      NaN      100\n",
      "3     Lime      NaN      110\n",
      "4  Coconut      NaN      120\n"
     ]
    }
   ],
   "source": [
    "# B. Right Join\n",
    "print(pd.merge(df1, df2,\n",
    "               how='right', on='Fruits'))"
   ]
  },
  {
   "cell_type": "code",
   "execution_count": 7,
   "metadata": {},
   "outputs": [
    {
     "name": "stdout",
     "output_type": "stream",
     "text": [
      "  Fruits  Price_x  Price_y\n",
      "0  Apple      100       80\n"
     ]
    }
   ],
   "source": [
    "#C. Inner Join\n",
    "print(pd.merge(df1, df2,\n",
    "               how='inner', on='Fruits'))"
   ]
  },
  {
   "cell_type": "code",
   "execution_count": 8,
   "metadata": {},
   "outputs": [
    {
     "name": "stdout",
     "output_type": "stream",
     "text": [
      "    Fruits  Price_x  Price_y\n",
      "0    Apple    100.0     80.0\n",
      "1   Banana     40.0      NaN\n",
      "2  Coconut      NaN    120.0\n",
      "3   Grapes     75.0      NaN\n",
      "4     Kiwi      NaN     90.0\n",
      "5     Lime      NaN    110.0\n",
      "6    Mango     60.0      NaN\n",
      "7    Melon      NaN    100.0\n",
      "8   Orange     65.0      NaN\n"
     ]
    }
   ],
   "source": [
    "#D. Outer Join\n",
    "print(pd.merge(df1, df2,\n",
    "               how='outer', on='Fruits'))"
   ]
  },
  {
   "cell_type": "code",
   "execution_count": 11,
   "metadata": {},
   "outputs": [
    {
     "name": "stdout",
     "output_type": "stream",
     "text": [
      "   Fruits  Quantity  Price     FRUITS  QUANTITY  PRICE\n",
      "0   Mango      40.0   80.0        NaN       NaN    NaN\n",
      "1   Apple      20.0  100.0        NaN       NaN    NaN\n",
      "2  Banana      25.0   50.0        NaN       NaN    NaN\n",
      "3  Orange      10.0   70.0        NaN       NaN    NaN\n",
      "4     NaN       NaN    NaN     Grapes      23.0   60.0\n",
      "5     NaN       NaN    NaN  Pineapple      17.0   30.0\n"
     ]
    }
   ],
   "source": [
    "# Concatenation\n",
    "# A. Row-wise Concatenation having the same column name\n",
    "data = {'FRUITS': ['Grapes', 'Pineapple'],\n",
    "        'QUANTITY': [23, 17],\n",
    "        'PRICE': [60, 30]\n",
    "        }\n",
    "\n",
    "# Create Pandas Dataframe with dictionary\n",
    "df1 = pd.DataFrame(data)\n",
    "\n",
    "# Concatenate df and df1\n",
    "df2 = pd.concat([df, df1], axis=0,\n",
    "                ignore_index=True)\n",
    "print(df2)"
   ]
  },
  {
   "cell_type": "code",
   "execution_count": 12,
   "metadata": {},
   "outputs": [
    {
     "name": "stdout",
     "output_type": "stream",
     "text": [
      "   Fruits  Quantity  Price     FRUITS  QUANTITY  PRICE  DISCOUNT\n",
      "0   Mango      40.0   80.0        NaN       NaN    NaN       5.0\n",
      "1   Apple      20.0  100.0        NaN       NaN    NaN       7.0\n",
      "2  Banana      25.0   50.0        NaN       NaN    NaN      10.0\n",
      "3  Orange      10.0   70.0        NaN       NaN    NaN       8.0\n",
      "4     NaN       NaN    NaN     Grapes      23.0   60.0       6.0\n",
      "5     NaN       NaN    NaN  Pineapple      17.0   30.0       NaN\n"
     ]
    }
   ],
   "source": [
    "#B. Column-wise Concatenation having the same column name\n",
    "data = {'DISCOUNT': [5, 7, 10, 8, 6]}\n",
    "\n",
    "# Create Pandas Dataframe with dictionary\n",
    "discount = pd.DataFrame(data)\n",
    "\n",
    "# Concatenate df2 and discount\n",
    "df = pd.concat([df2, discount], axis=1)\n",
    "print(df)"
   ]
  },
  {
   "cell_type": "code",
   "execution_count": 13,
   "metadata": {},
   "outputs": [
    {
     "name": "stdout",
     "output_type": "stream",
     "text": [
      "       Quantity      Price   QUANTITY      PRICE   DISCOUNT\n",
      "count      4.00    4.00000   2.000000   2.000000   5.000000\n",
      "mean      23.75   75.00000  20.000000  45.000000   7.200000\n",
      "std       12.50   20.81666   4.242641  21.213203   1.923538\n",
      "min       10.00   50.00000  17.000000  30.000000   5.000000\n",
      "25%       17.50   65.00000  18.500000  37.500000   6.000000\n",
      "50%       22.50   75.00000  20.000000  45.000000   7.000000\n",
      "75%       28.75   85.00000  21.500000  52.500000   8.000000\n",
      "max       40.00  100.00000  23.000000  60.000000  10.000000\n"
     ]
    }
   ],
   "source": [
    "# Descriptive Analysis Pandas\n",
    "# Describe dataset\n",
    "#A. For numerical datatype\n",
    "\n",
    "print(df.describe())"
   ]
  },
  {
   "cell_type": "code",
   "execution_count": 14,
   "metadata": {},
   "outputs": [
    {
     "name": "stdout",
     "output_type": "stream",
     "text": [
      "       Fruits  FRUITS\n",
      "count       4       2\n",
      "unique      4       2\n",
      "top     Mango  Grapes\n",
      "freq        1       1\n"
     ]
    }
   ],
   "source": [
    "# B. For object datatype\n",
    "print(df.describe(include=['O']))"
   ]
  }
 ],
 "metadata": {
  "kernelspec": {
   "display_name": "Python 3",
   "language": "python",
   "name": "python3"
  },
  "language_info": {
   "codemirror_mode": {
    "name": "ipython",
    "version": 3
   },
   "file_extension": ".py",
   "mimetype": "text/x-python",
   "name": "python",
   "nbconvert_exporter": "python",
   "pygments_lexer": "ipython3",
   "version": "3.12.7"
  }
 },
 "nbformat": 4,
 "nbformat_minor": 2
}
